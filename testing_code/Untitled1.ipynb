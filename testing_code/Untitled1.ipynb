{
 "cells": [
  {
   "cell_type": "code",
   "execution_count": 4,
   "metadata": {},
   "outputs": [],
   "source": [
    "%matplotlib inline"
   ]
  },
  {
   "cell_type": "code",
   "execution_count": 5,
   "metadata": {},
   "outputs": [],
   "source": [
    "from matplotlib import pyplot as plt\n",
    "import cv2\n",
    "import numpy as np"
   ]
  },
  {
   "cell_type": "code",
   "execution_count": 6,
   "metadata": {},
   "outputs": [
    {
     "ename": "NameError",
     "evalue": "name 'path' is not defined",
     "output_type": "error",
     "traceback": [
      "\u001b[0;31m---------------------------------------------------------------------------\u001b[0m",
      "\u001b[0;31mNameError\u001b[0m                                 Traceback (most recent call last)",
      "\u001b[0;32m<ipython-input-6-c645d361618a>\u001b[0m in \u001b[0;36m<module>\u001b[0;34m\u001b[0m\n\u001b[0;32m----> 1\u001b[0;31m \u001b[0mimg\u001b[0m \u001b[0;34m=\u001b[0m \u001b[0mcv2\u001b[0m\u001b[0;34m.\u001b[0m\u001b[0mimread\u001b[0m\u001b[0;34m(\u001b[0m\u001b[0mpath\u001b[0m\u001b[0;34m)\u001b[0m\u001b[0;34m\u001b[0m\u001b[0;34m\u001b[0m\u001b[0m\n\u001b[0m",
      "\u001b[0;31mNameError\u001b[0m: name 'path' is not defined"
     ]
    }
   ],
   "source": [
    "img = cv2.imread(path)"
   ]
  },
  {
   "cell_type": "code",
   "execution_count": 30,
   "metadata": {},
   "outputs": [],
   "source": [
    "# x, y, w, h\n",
    "path = 'american-airlines-renv.png'\n",
    "img = cv2.imread(path)\n",
    "classes = {\n",
    "    '1': \n",
    "    {\n",
    "        'class_name': 'Rubik',\n",
    "        'rect_color': '255,0,0',\n",
    "        'text_color': '255,255,255'\n",
    "    },\n",
    "    '2': \n",
    "    {\n",
    "        'class_name': 'Block',\n",
    "        'rect_color': '0,255,0',\n",
    "        'text_color': '0,0,0'\n",
    "    }\n",
    "}\n",
    "objs = {\n",
    "    'object1':\n",
    "    {\n",
    "        \"class\": 1,\n",
    "        \"discovered_time\": \"now\",\n",
    "        \"score\": 0.9532,\n",
    "        \"bbox\": (10, 50, 265, 70)\n",
    "    },\n",
    "    'object2':\n",
    "    {\n",
    "        \"class\": 2,\n",
    "        \"discovered_time\": \"now\",\n",
    "        \"score\": 0.9414,\n",
    "        \"bbox\": (275, 50, 240, 70)\n",
    "    }\n",
    "}\n",
    "\n",
    "for (obj, v) in objs.items():\n",
    "    x, y, w, h = v['bbox']\n",
    "    rect_color = classes[str(v['class'])]['rect_color']\n",
    "    text_color = classes[str(v['class'])]['text_color']\n",
    "    rect_color = tuple(map(int, rect_color.split(',')))\n",
    "    text_color = tuple(map(int, text_color.split(',')))\n",
    "    # Main Rectangle\n",
    "    img = cv2.rectangle(img, (x, y), (x+w, y+h), rect_color, thickness=3)\n",
    "\n",
    "    # Top Rect\n",
    "    class_str = classes[str(v['class'])]['class_name']\n",
    "    class_str = f'Class: {class_str}'\n",
    "    size = cv2.getTextSize(class_str, cv2.FONT_HERSHEY_SIMPLEX, 0.75, 2)\n",
    "    img = cv2.rectangle(img, (x, y-33), (x+size[0][0]+10, y), rect_color, thickness=-1)\n",
    "    img = cv2.putText(img, class_str, (x+5, y-10), cv2.FONT_HERSHEY_SIMPLEX, 0.75, text_color, 2)\n",
    "\n",
    "    # Bottom Rect\n",
    "    score_flt = v['score']\n",
    "    score_str = f'Score: {score_flt*100:.2f}%'\n",
    "    size = cv2.getTextSize(score_str, cv2.FONT_HERSHEY_SIMPLEX, 0.75, 2)\n",
    "    img = cv2.rectangle(img, (x, y+h), (x+size[0][0]+10, y+h+30), rect_color, thickness=-1)\n",
    "    img = cv2.putText(img, score_str, (x+5, y+h+22), cv2.FONT_HERSHEY_SIMPLEX, 0.75, text_color, 2)\n"
   ]
  },
  {
   "cell_type": "code",
   "execution_count": 34,
   "metadata": {},
   "outputs": [
    {
     "data": {
      "text/plain": [
       "(173, 17)"
      ]
     },
     "execution_count": 34,
     "metadata": {},
     "output_type": "execute_result"
    }
   ],
   "source": [
    "size[0]"
   ]
  },
  {
   "cell_type": "code",
   "execution_count": 32,
   "metadata": {},
   "outputs": [
    {
     "data": {
      "text/plain": [
       "(1, 2, 3)"
      ]
     },
     "execution_count": 32,
     "metadata": {},
     "output_type": "execute_result"
    }
   ],
   "source": [
    "tuple(map(int, '1,2,3'.strip('(').strip(')').split(',')))"
   ]
  },
  {
   "cell_type": "code",
   "execution_count": 33,
   "metadata": {},
   "outputs": [
    {
     "data": {
      "text/plain": [
       "<matplotlib.image.AxesImage at 0x7f57f264e0>"
      ]
     },
     "execution_count": 33,
     "metadata": {},
     "output_type": "execute_result"
    },
    {
     "data": {
      "image/png": "[encoded data removed]",
      "text/plain": [
       "<Figure size 432x288 with 1 Axes>"
      ]
     },
     "metadata": {
      "needs_background": "light"
     },
     "output_type": "display_data"
    }
   ],
   "source": [
    "plt.imshow(img)"
   ]
  },
  {
   "cell_type": "code",
   "execution_count": null,
   "metadata": {},
   "outputs": [],
   "source": []
  },
  {
   "cell_type": "code",
   "execution_count": null,
   "metadata": {},
   "outputs": [],
   "source": []
  }
 ],
 "metadata": {
  "kernelspec": {
   "display_name": "Python 3",
   "language": "python",
   "name": "python3"
  },
  "language_info": {
   "codemirror_mode": {
    "name": "ipython",
    "version": 3
   },
   "file_extension": ".py",
   "mimetype": "text/x-python",
   "name": "python",
   "nbconvert_exporter": "python",
   "pygments_lexer": "ipython3",
   "version": "3.6.9"
  }
 },
 "nbformat": 4,
 "nbformat_minor": 2
}
