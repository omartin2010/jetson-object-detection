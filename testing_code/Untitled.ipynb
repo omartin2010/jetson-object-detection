{
 "cells": [
  {
   "cell_type": "code",
   "execution_count": 8,
   "metadata": {},
   "outputs": [],
   "source": [
    "import uuid\n",
    "from copy import deepcopy"
   ]
  },
  {
   "cell_type": "code",
   "execution_count": 9,
   "metadata": {},
   "outputs": [],
   "source": [
    "class test(object):\n",
    "    def __init__(self, a, b):\n",
    "        self.uuid = uuid.uuid4()\n",
    "        self.a = a\n",
    "        self.b = b"
   ]
  },
  {
   "cell_type": "code",
   "execution_count": 10,
   "metadata": {},
   "outputs": [],
   "source": [
    "myobj1 = test(2,3)\n",
    "myobj2 = test(4,5)\n",
    "myobj3 = test(10,3)\n",
    "a = {myobj1.uuid: myobj1, \n",
    "     myobj2.uuid: myobj2}\n",
    "b = deepcopy(a)\n",
    "b[myobj3.uuid] = myobj3"
   ]
  },
  {
   "cell_type": "code",
   "execution_count": 21,
   "metadata": {},
   "outputs": [
    {
     "data": {
      "text/plain": [
       "{UUID('b5f18472-659e-447a-942a-2ac87425fe54'): <__main__.test at 0x7f88386e10>,\n",
       " UUID('c3370538-d34b-4d00-a09d-b36631ccd39d'): <__main__.test at 0x7f88386e80>}"
      ]
     },
     "execution_count": 21,
     "metadata": {},
     "output_type": "execute_result"
    }
   ],
   "source": [
    "a"
   ]
  },
  {
   "cell_type": "code",
   "execution_count": 20,
   "metadata": {},
   "outputs": [
    {
     "data": {
      "text/plain": [
       "{UUID('b5f18472-659e-447a-942a-2ac87425fe54'): <__main__.test at 0x7f88386c50>,\n",
       " UUID('c3370538-d34b-4d00-a09d-b36631ccd39d'): <__main__.test at 0x7f88306080>,\n",
       " UUID('a16631b1-d3f2-4f3b-bd02-9d81f591b33c'): <__main__.test at 0x7f88386f60>}"
      ]
     },
     "execution_count": 20,
     "metadata": {},
     "output_type": "execute_result"
    }
   ],
   "source": [
    "b"
   ]
  },
  {
   "cell_type": "code",
   "execution_count": 76,
   "metadata": {},
   "outputs": [],
   "source": [
    "from copy import deepcopy, copy\n",
    "def modification(mylist):\n",
    "    for (k, v) in mylist.items():\n",
    "        v.a = 334\n",
    "        v.b = 441"
   ]
  },
  {
   "cell_type": "code",
   "execution_count": 77,
   "metadata": {},
   "outputs": [
    {
     "name": "stdout",
     "output_type": "stream",
     "text": [
      "2\n",
      "3\n",
      "4\n",
      "5\n"
     ]
    }
   ],
   "source": [
    "for (k, v) in a.items():\n",
    "    print(v.a)\n",
    "    print(v.b)"
   ]
  },
  {
   "cell_type": "code",
   "execution_count": 22,
   "metadata": {},
   "outputs": [
    {
     "data": {
      "text/plain": [
       "[UUID('b5f18472-659e-447a-942a-2ac87425fe54'),\n",
       " UUID('c3370538-d34b-4d00-a09d-b36631ccd39d')]"
      ]
     },
     "execution_count": 22,
     "metadata": {},
     "output_type": "execute_result"
    }
   ],
   "source": [
    "list(a)"
   ]
  },
  {
   "cell_type": "code",
   "execution_count": 23,
   "metadata": {},
   "outputs": [
    {
     "data": {
      "text/plain": [
       "[UUID('b5f18472-659e-447a-942a-2ac87425fe54'),\n",
       " UUID('c3370538-d34b-4d00-a09d-b36631ccd39d'),\n",
       " UUID('a16631b1-d3f2-4f3b-bd02-9d81f591b33c')]"
      ]
     },
     "execution_count": 23,
     "metadata": {},
     "output_type": "execute_result"
    }
   ],
   "source": [
    "list(b)"
   ]
  },
  {
   "cell_type": "code",
   "execution_count": 29,
   "metadata": {},
   "outputs": [],
   "source": [
    "sets = [set(a.keys()), set(b.keys())]"
   ]
  },
  {
   "cell_type": "code",
   "execution_count": 36,
   "metadata": {},
   "outputs": [
    {
     "data": {
      "text/plain": [
       "{UUID('a16631b1-d3f2-4f3b-bd02-9d81f591b33c')}"
      ]
     },
     "execution_count": 36,
     "metadata": {},
     "output_type": "execute_result"
    }
   ],
   "source": [
    "set(b.keys()).difference(set(a.keys()))"
   ]
  },
  {
   "cell_type": "code",
   "execution_count": 39,
   "metadata": {},
   "outputs": [],
   "source": [
    "diff = set(b).difference(a)"
   ]
  },
  {
   "cell_type": "code",
   "execution_count": 42,
   "metadata": {},
   "outputs": [
    {
     "data": {
      "text/plain": [
       "{UUID('a16631b1-d3f2-4f3b-bd02-9d81f591b33c'): <__main__.test at 0x7f88386f60>}"
      ]
     },
     "execution_count": 42,
     "metadata": {},
     "output_type": "execute_result"
    }
   ],
   "source": [
    "{k:v for k, v in b.items() if k in diff}"
   ]
  },
  {
   "cell_type": "code",
   "execution_count": null,
   "metadata": {},
   "outputs": [],
   "source": []
  }
 ],
 "metadata": {
  "kernelspec": {
   "display_name": "Python 3",
   "language": "python",
   "name": "python3"
  },
  "language_info": {
   "codemirror_mode": {
    "name": "ipython",
    "version": 3
   },
   "file_extension": ".py",
   "mimetype": "text/x-python",
   "name": "python",
   "nbconvert_exporter": "python",
   "pygments_lexer": "ipython3",
   "version": "3.6.9"
  }
 },
 "nbformat": 4,
 "nbformat_minor": 2
}
